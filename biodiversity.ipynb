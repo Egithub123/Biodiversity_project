{
 "cells": [
  {
   "cell_type": "code",
   "execution_count": 2,
   "metadata": {},
   "outputs": [],
   "source": [
    "import pandas as pd\n",
    "import numpy as np\n",
    "import matplotlib.pyplot as plt\n",
    "import seaborn as sns"
   ]
  },
  {
   "cell_type": "markdown",
   "metadata": {},
   "source": [
    "# W tej analizie zajmiemy się danymi dotyczącymi gatunków zagrożonych zwierząt w parkach narodowych Stanów Zjednoczonych.\n",
    "Cele naszej analizy:\n",
    "1. Badanie zawartości dostępnego zbioróu danyc: species_info.csv.\n",
    "2. Analiza danych dotycząca ilości zagrożonych zwierząt w podziale na status ich ochrony.\n",
    "3. Badanie zawartości zbioru observations.csv.\n",
    "4. Analiza ilości obserwacji w podziale na parki narodowe.\n",
    "5. Analiza danych z połączonych zbiorów, dotycząca iości zagorożonych zwierząt dla określonych gatunków zwierząt w podziale na rodzaje zagorżeń ogółem i dla poszczególnych parków narodowych.\n",
    "6. Wnioski płynaące z analizy."
   ]
  },
  {
   "cell_type": "markdown",
   "metadata": {},
   "source": [
    "# 1. Badani zawartości zbioru species_info.csv"
   ]
  },
  {
   "cell_type": "code",
   "execution_count": 3,
   "metadata": {},
   "outputs": [
    {
     "name": "stdout",
     "output_type": "stream",
     "text": [
      "<class 'pandas.core.frame.DataFrame'>\n",
      "RangeIndex: 5824 entries, 0 to 5823\n",
      "Data columns (total 4 columns):\n",
      " #   Column               Non-Null Count  Dtype \n",
      "---  ------               --------------  ----- \n",
      " 0   category             5824 non-null   object\n",
      " 1   scientific_name      5824 non-null   object\n",
      " 2   common_names         5824 non-null   object\n",
      " 3   conservation_status  191 non-null    object\n",
      "dtypes: object(4)\n",
      "memory usage: 182.1+ KB\n",
      "None\n"
     ]
    },
    {
     "data": {
      "text/html": [
       "<div>\n",
       "<style scoped>\n",
       "    .dataframe tbody tr th:only-of-type {\n",
       "        vertical-align: middle;\n",
       "    }\n",
       "\n",
       "    .dataframe tbody tr th {\n",
       "        vertical-align: top;\n",
       "    }\n",
       "\n",
       "    .dataframe thead th {\n",
       "        text-align: right;\n",
       "    }\n",
       "</style>\n",
       "<table border=\"1\" class=\"dataframe\">\n",
       "  <thead>\n",
       "    <tr style=\"text-align: right;\">\n",
       "      <th></th>\n",
       "      <th>category</th>\n",
       "      <th>scientific_name</th>\n",
       "      <th>common_names</th>\n",
       "      <th>conservation_status</th>\n",
       "    </tr>\n",
       "  </thead>\n",
       "  <tbody>\n",
       "    <tr>\n",
       "      <th>0</th>\n",
       "      <td>Mammal</td>\n",
       "      <td>Clethrionomys gapperi gapperi</td>\n",
       "      <td>Gapper's Red-Backed Vole</td>\n",
       "      <td>NaN</td>\n",
       "    </tr>\n",
       "    <tr>\n",
       "      <th>1</th>\n",
       "      <td>Mammal</td>\n",
       "      <td>Bos bison</td>\n",
       "      <td>American Bison, Bison</td>\n",
       "      <td>NaN</td>\n",
       "    </tr>\n",
       "    <tr>\n",
       "      <th>2</th>\n",
       "      <td>Mammal</td>\n",
       "      <td>Bos taurus</td>\n",
       "      <td>Aurochs, Aurochs, Domestic Cattle (Feral), Dom...</td>\n",
       "      <td>NaN</td>\n",
       "    </tr>\n",
       "    <tr>\n",
       "      <th>3</th>\n",
       "      <td>Mammal</td>\n",
       "      <td>Ovis aries</td>\n",
       "      <td>Domestic Sheep, Mouflon, Red Sheep, Sheep (Feral)</td>\n",
       "      <td>NaN</td>\n",
       "    </tr>\n",
       "    <tr>\n",
       "      <th>4</th>\n",
       "      <td>Mammal</td>\n",
       "      <td>Cervus elaphus</td>\n",
       "      <td>Wapiti Or Elk</td>\n",
       "      <td>NaN</td>\n",
       "    </tr>\n",
       "  </tbody>\n",
       "</table>\n",
       "</div>"
      ],
      "text/plain": [
       "  category                scientific_name  \\\n",
       "0   Mammal  Clethrionomys gapperi gapperi   \n",
       "1   Mammal                      Bos bison   \n",
       "2   Mammal                     Bos taurus   \n",
       "3   Mammal                     Ovis aries   \n",
       "4   Mammal                 Cervus elaphus   \n",
       "\n",
       "                                        common_names conservation_status  \n",
       "0                           Gapper's Red-Backed Vole                 NaN  \n",
       "1                              American Bison, Bison                 NaN  \n",
       "2  Aurochs, Aurochs, Domestic Cattle (Feral), Dom...                 NaN  \n",
       "3  Domestic Sheep, Mouflon, Red Sheep, Sheep (Feral)                 NaN  \n",
       "4                                      Wapiti Or Elk                 NaN  "
      ]
     },
     "execution_count": 3,
     "metadata": {},
     "output_type": "execute_result"
    }
   ],
   "source": [
    "species = pd.read_csv('species_info.csv', encoding = 'utf_8')\n",
    "print(species.info())\n",
    "species.head()"
   ]
  },
  {
   "cell_type": "markdown",
   "metadata": {},
   "source": [
    "**species_info** - zbiór danych zaawierający nastepujące informacje:\n",
    "- category - gatunek zwierzęcia\n",
    "- scientific_name - naukowa nazwa zwierzęcia\n",
    "- common_names -  powszechnie używana nazwa zwierzęcia\n",
    "- conservation_status - status ochrony\n",
    "\n",
    "W przypadku pola conservation_status tylko 191 na 5824 obserwacji posiada nie puste dane.\n",
    "Zbadajmy, jakie są unikalne wartości pól."
   ]
  },
  {
   "cell_type": "code",
   "execution_count": 4,
   "metadata": {},
   "outputs": [
    {
     "name": "stdout",
     "output_type": "stream",
     "text": [
      " category: ['Mammal' 'Bird' 'Reptile' 'Amphibian' 'Fish' 'Vascular Plant'\n",
      " 'Nonvascular Plant']\n",
      "scientific_name\n",
      "['Clethrionomys gapperi gapperi' 'Bos bison' 'Bos taurus' ...\n",
      " 'Parthenocissus vitacea' 'Vitis californica' 'Tribulus terrestris']\n",
      "common_names\n",
      "[\"Gapper's Red-Backed Vole\" 'American Bison, Bison'\n",
      " 'Aurochs, Aurochs, Domestic Cattle (Feral), Domesticated Cattle' ...\n",
      " 'Thicket Creeper, Virginia Creeper, Woodbine'\n",
      " 'California Grape, California Wild Grape'\n",
      " 'Bullhead, Caltrop, Goathead, Mexican Sandbur, Puncture Vine, Texas Sandbur']\n",
      "conservation_status\n",
      "[nan 'Species of Concern' 'Endangered' 'Threatened' 'In Recovery']\n"
     ]
    }
   ],
   "source": [
    "\n",
    "print(f\" category: {species.category.unique()}\")\n",
    "print('scientific_name')\n",
    "print(species.scientific_name.unique())\n",
    "print('common_names')\n",
    "print(species.common_names.unique())\n",
    "print('conservation_status')\n",
    "print(species.conservation_status.unique())"
   ]
  },
  {
   "cell_type": "markdown",
   "metadata": {},
   "source": [
    "Sprawdzamu, czy zbiór zawiera zduplikowane wiersze według pola 'scientific_name i 'conservation_status', usuwamy zduplikowane dane"
   ]
  },
  {
   "cell_type": "code",
   "execution_count": 5,
   "metadata": {},
   "outputs": [
    {
     "name": "stdout",
     "output_type": "stream",
     "text": [
      "<class 'pandas.core.frame.DataFrame'>\n",
      "Int64Index: 281 entries, 3017 to 5750\n",
      "Data columns (total 4 columns):\n",
      " #   Column               Non-Null Count  Dtype \n",
      "---  ------               --------------  ----- \n",
      " 0   category             281 non-null    object\n",
      " 1   scientific_name      281 non-null    object\n",
      " 2   common_names         281 non-null    object\n",
      " 3   conservation_status  11 non-null     object\n",
      "dtypes: object(4)\n",
      "memory usage: 11.0+ KB\n",
      "None\n"
     ]
    },
    {
     "data": {
      "text/html": [
       "<div>\n",
       "<style scoped>\n",
       "    .dataframe tbody tr th:only-of-type {\n",
       "        vertical-align: middle;\n",
       "    }\n",
       "\n",
       "    .dataframe tbody tr th {\n",
       "        vertical-align: top;\n",
       "    }\n",
       "\n",
       "    .dataframe thead th {\n",
       "        text-align: right;\n",
       "    }\n",
       "</style>\n",
       "<table border=\"1\" class=\"dataframe\">\n",
       "  <thead>\n",
       "    <tr style=\"text-align: right;\">\n",
       "      <th></th>\n",
       "      <th>category</th>\n",
       "      <th>scientific_name</th>\n",
       "      <th>common_names</th>\n",
       "      <th>conservation_status</th>\n",
       "    </tr>\n",
       "  </thead>\n",
       "  <tbody>\n",
       "    <tr>\n",
       "      <th>3020</th>\n",
       "      <td>Mammal</td>\n",
       "      <td>Canis lupus</td>\n",
       "      <td>Gray Wolf, Wolf</td>\n",
       "      <td>In Recovery</td>\n",
       "    </tr>\n",
       "    <tr>\n",
       "      <th>3283</th>\n",
       "      <td>Fish</td>\n",
       "      <td>Oncorhynchus mykiss</td>\n",
       "      <td>Rainbow Trout</td>\n",
       "      <td>Threatened</td>\n",
       "    </tr>\n",
       "  </tbody>\n",
       "</table>\n",
       "</div>"
      ],
      "text/plain": [
       "     category      scientific_name     common_names conservation_status\n",
       "3020   Mammal          Canis lupus  Gray Wolf, Wolf         In Recovery\n",
       "3283     Fish  Oncorhynchus mykiss    Rainbow Trout          Threatened"
      ]
     },
     "metadata": {},
     "output_type": "display_data"
    }
   ],
   "source": [
    "species_dup=species.duplicated(subset=['scientific_name','conservation_status'])\n",
    "print(species[species_dup].info())\n",
    "species = species.drop_duplicates(subset=['scientific_name','conservation_status'])\n",
    "species_dup=species.duplicated(subset=['scientific_name'])\n",
    "display(species[species_dup])\n"
   ]
  },
  {
   "cell_type": "markdown",
   "metadata": {},
   "source": [
    "Zbiór zawiera jeszcze dwa zapisy ze zduplikowanymi nazwami naukowymi zwierząt,\n",
    "ale z różnym statusem ochrony.\n",
    "Sprawdżmy czego dotyczą te zapisy.\n"
   ]
  },
  {
   "cell_type": "code",
   "execution_count": 6,
   "metadata": {},
   "outputs": [
    {
     "data": {
      "text/html": [
       "<div>\n",
       "<style scoped>\n",
       "    .dataframe tbody tr th:only-of-type {\n",
       "        vertical-align: middle;\n",
       "    }\n",
       "\n",
       "    .dataframe tbody tr th {\n",
       "        vertical-align: top;\n",
       "    }\n",
       "\n",
       "    .dataframe thead th {\n",
       "        text-align: right;\n",
       "    }\n",
       "</style>\n",
       "<table border=\"1\" class=\"dataframe\">\n",
       "  <thead>\n",
       "    <tr style=\"text-align: right;\">\n",
       "      <th></th>\n",
       "      <th>category</th>\n",
       "      <th>scientific_name</th>\n",
       "      <th>common_names</th>\n",
       "      <th>conservation_status</th>\n",
       "    </tr>\n",
       "  </thead>\n",
       "  <tbody>\n",
       "    <tr>\n",
       "      <th>8</th>\n",
       "      <td>Mammal</td>\n",
       "      <td>Canis lupus</td>\n",
       "      <td>Gray Wolf</td>\n",
       "      <td>Endangered</td>\n",
       "    </tr>\n",
       "    <tr>\n",
       "      <th>3020</th>\n",
       "      <td>Mammal</td>\n",
       "      <td>Canis lupus</td>\n",
       "      <td>Gray Wolf, Wolf</td>\n",
       "      <td>In Recovery</td>\n",
       "    </tr>\n",
       "  </tbody>\n",
       "</table>\n",
       "</div>"
      ],
      "text/plain": [
       "     category scientific_name     common_names conservation_status\n",
       "8      Mammal     Canis lupus        Gray Wolf          Endangered\n",
       "3020   Mammal     Canis lupus  Gray Wolf, Wolf         In Recovery"
      ]
     },
     "metadata": {},
     "output_type": "display_data"
    },
    {
     "data": {
      "text/html": [
       "<div>\n",
       "<style scoped>\n",
       "    .dataframe tbody tr th:only-of-type {\n",
       "        vertical-align: middle;\n",
       "    }\n",
       "\n",
       "    .dataframe tbody tr th {\n",
       "        vertical-align: top;\n",
       "    }\n",
       "\n",
       "    .dataframe thead th {\n",
       "        text-align: right;\n",
       "    }\n",
       "</style>\n",
       "<table border=\"1\" class=\"dataframe\">\n",
       "  <thead>\n",
       "    <tr style=\"text-align: right;\">\n",
       "      <th></th>\n",
       "      <th>category</th>\n",
       "      <th>scientific_name</th>\n",
       "      <th>common_names</th>\n",
       "      <th>conservation_status</th>\n",
       "    </tr>\n",
       "  </thead>\n",
       "  <tbody>\n",
       "    <tr>\n",
       "      <th>560</th>\n",
       "      <td>Fish</td>\n",
       "      <td>Oncorhynchus mykiss</td>\n",
       "      <td>Rainbow Trout</td>\n",
       "      <td>NaN</td>\n",
       "    </tr>\n",
       "    <tr>\n",
       "      <th>3283</th>\n",
       "      <td>Fish</td>\n",
       "      <td>Oncorhynchus mykiss</td>\n",
       "      <td>Rainbow Trout</td>\n",
       "      <td>Threatened</td>\n",
       "    </tr>\n",
       "  </tbody>\n",
       "</table>\n",
       "</div>"
      ],
      "text/plain": [
       "     category      scientific_name   common_names conservation_status\n",
       "560      Fish  Oncorhynchus mykiss  Rainbow Trout                 NaN\n",
       "3283     Fish  Oncorhynchus mykiss  Rainbow Trout          Threatened"
      ]
     },
     "metadata": {},
     "output_type": "display_data"
    }
   ],
   "source": [
    "display(species[species.scientific_name == 'Canis lupus'])\n",
    "display(species[species.scientific_name == 'Oncorhynchus mykiss'])"
   ]
  },
  {
   "cell_type": "markdown",
   "metadata": {},
   "source": [
    "Usuwamy błędne zpisy i sprawdzamy ponownie."
   ]
  },
  {
   "cell_type": "code",
   "execution_count": 7,
   "metadata": {},
   "outputs": [
    {
     "data": {
      "text/html": [
       "<div>\n",
       "<style scoped>\n",
       "    .dataframe tbody tr th:only-of-type {\n",
       "        vertical-align: middle;\n",
       "    }\n",
       "\n",
       "    .dataframe tbody tr th {\n",
       "        vertical-align: top;\n",
       "    }\n",
       "\n",
       "    .dataframe thead th {\n",
       "        text-align: right;\n",
       "    }\n",
       "</style>\n",
       "<table border=\"1\" class=\"dataframe\">\n",
       "  <thead>\n",
       "    <tr style=\"text-align: right;\">\n",
       "      <th></th>\n",
       "      <th>category</th>\n",
       "      <th>scientific_name</th>\n",
       "      <th>common_names</th>\n",
       "      <th>conservation_status</th>\n",
       "    </tr>\n",
       "  </thead>\n",
       "  <tbody>\n",
       "    <tr>\n",
       "      <th>8</th>\n",
       "      <td>Mammal</td>\n",
       "      <td>Canis lupus</td>\n",
       "      <td>Gray Wolf</td>\n",
       "      <td>Endangered</td>\n",
       "    </tr>\n",
       "  </tbody>\n",
       "</table>\n",
       "</div>"
      ],
      "text/plain": [
       "  category scientific_name common_names conservation_status\n",
       "8   Mammal     Canis lupus    Gray Wolf          Endangered"
      ]
     },
     "metadata": {},
     "output_type": "display_data"
    },
    {
     "data": {
      "text/html": [
       "<div>\n",
       "<style scoped>\n",
       "    .dataframe tbody tr th:only-of-type {\n",
       "        vertical-align: middle;\n",
       "    }\n",
       "\n",
       "    .dataframe tbody tr th {\n",
       "        vertical-align: top;\n",
       "    }\n",
       "\n",
       "    .dataframe thead th {\n",
       "        text-align: right;\n",
       "    }\n",
       "</style>\n",
       "<table border=\"1\" class=\"dataframe\">\n",
       "  <thead>\n",
       "    <tr style=\"text-align: right;\">\n",
       "      <th></th>\n",
       "      <th>category</th>\n",
       "      <th>scientific_name</th>\n",
       "      <th>common_names</th>\n",
       "      <th>conservation_status</th>\n",
       "    </tr>\n",
       "  </thead>\n",
       "  <tbody>\n",
       "    <tr>\n",
       "      <th>560</th>\n",
       "      <td>Fish</td>\n",
       "      <td>Oncorhynchus mykiss</td>\n",
       "      <td>Rainbow Trout</td>\n",
       "      <td>NaN</td>\n",
       "    </tr>\n",
       "  </tbody>\n",
       "</table>\n",
       "</div>"
      ],
      "text/plain": [
       "    category      scientific_name   common_names conservation_status\n",
       "560     Fish  Oncorhynchus mykiss  Rainbow Trout                 NaN"
      ]
     },
     "metadata": {},
     "output_type": "display_data"
    }
   ],
   "source": [
    "species=species.drop(index=3020)\n",
    "species = species.drop(index=3283)\n",
    "display(species[species.scientific_name == 'Canis lupus'])\n",
    "display(species[species.scientific_name == 'Oncorhynchus mykiss'])"
   ]
  },
  {
   "cell_type": "markdown",
   "metadata": {},
   "source": [
    "**Kolumna 'conservation_status' przybiera następujące wartości:**\n",
    "1. **Cpecies of concern** - gatunek budzący obawy dot. zagrożenia\n",
    "2. **Endangered** - narażony\n",
    "3. **Threatened** - zagrożony\n",
    "4. **In Recovery** - w okresie przywracania populacji\n",
    "5. **nan** - brak danych\n",
    "\n",
    "Dane puste zostaną zastąpione informacją - 'nie chroniony' ('Not protected').\n"
   ]
  },
  {
   "cell_type": "code",
   "execution_count": 8,
   "metadata": {
    "scrolled": true
   },
   "outputs": [
    {
     "name": "stdout",
     "output_type": "stream",
     "text": [
      "<class 'pandas.core.frame.DataFrame'>\n",
      "Int64Index: 5541 entries, 0 to 5823\n",
      "Data columns (total 4 columns):\n",
      " #   Column               Non-Null Count  Dtype \n",
      "---  ------               --------------  ----- \n",
      " 0   category             5541 non-null   object\n",
      " 1   scientific_name      5541 non-null   object\n",
      " 2   common_names         5541 non-null   object\n",
      " 3   conservation_status  5541 non-null   object\n",
      "dtypes: object(4)\n",
      "memory usage: 216.4+ KB\n",
      "None\n"
     ]
    }
   ],
   "source": [
    "species = species.fillna('Not protected')\n",
    "print(species.info())\n"
   ]
  },
  {
   "cell_type": "markdown",
   "metadata": {},
   "source": [
    "Zbiór zawiera 7 gatunków zwierząt. Dla każdego z nich występują następujące ilości zwierząt:"
   ]
  },
  {
   "cell_type": "code",
   "execution_count": 9,
   "metadata": {},
   "outputs": [
    {
     "name": "stdout",
     "output_type": "stream",
     "text": [
      "category\n",
      "Amphibian              79\n",
      "Bird                  488\n",
      "Fish                  125\n",
      "Mammal                176\n",
      "Nonvascular Plant     333\n",
      "Reptile                78\n",
      "Vascular Plant       4262\n",
      "dtype: int64\n"
     ]
    }
   ],
   "source": [
    "print(species.groupby('category').size())"
   ]
  },
  {
   "cell_type": "markdown",
   "metadata": {},
   "source": [
    "# 2.Analiza zawartości zbioru species_info.csv:\n",
    "Wykres zawiera podził na gatunki zwierząt (7 rodzajów) i status ochrony(5 rodzajów).\n",
    "   - oś x - status ochrony w podziale na gatunki zwierząt\n",
    "   - oś y - ilość zwierząt dla danego statusu ochrony\n",
    "   \n",
    "    Ze statusem 'Not protected' jest pond 5000 obserwacji.\n",
    "    Aby dokonać analizy pozostałych danych, pominiemy ten rodzaj statusu ochrony\n",
    "    "
   ]
  },
  {
   "cell_type": "code",
   "execution_count": 10,
   "metadata": {},
   "outputs": [
    {
     "name": "stdout",
     "output_type": "stream",
     "text": [
      "conservation_status\n",
      "Endangered             15\n",
      "In Recovery             3\n",
      "Species of Concern    151\n",
      "Threatened              9\n",
      "dtype: int64\n",
      "conservation_status  category         \n",
      "Endangered           Amphibian             1\n",
      "                     Bird                  4\n",
      "                     Fish                  3\n",
      "                     Mammal                6\n",
      "                     Vascular Plant        1\n",
      "In Recovery          Bird                  3\n",
      "Species of Concern   Amphibian             4\n",
      "                     Bird                 68\n",
      "                     Fish                  4\n",
      "                     Mammal               22\n",
      "                     Nonvascular Plant     5\n",
      "                     Reptile               5\n",
      "                     Vascular Plant       43\n",
      "Threatened           Amphibian             2\n",
      "                     Fish                  3\n",
      "                     Mammal                2\n",
      "                     Vascular Plant        2\n",
      "dtype: int64\n"
     ]
    },
    {
     "data": {
      "image/png": "[encoded data removed]",
      "text/plain": [
       "<Figure size 640x480 with 1 Axes>"
      ]
     },
     "metadata": {},
     "output_type": "display_data"
    },
    {
     "data": {
      "text/plain": [
       "<Figure size 640x480 with 0 Axes>"
      ]
     },
     "metadata": {},
     "output_type": "display_data"
    }
   ],
   "source": [
    "conservation_group = species[species.conservation_status!= 'Not protected']\n",
    "print(conservation_group.groupby('conservation_status').size())\n",
    "\n",
    "print(conservation_group.groupby(['conservation_status','category']).size())\n",
    "lab_x = ['Species of Concern' ,'Endangered', 'Threatened', 'In Recovery']\n",
    "ax = plt.subplot()\n",
    "sns.countplot(x='conservation_status', data= conservation_group, hue = 'category')\n",
    "ax.set_xticklabels(labels=lab_x, rotation=90,fontsize = 8)\n",
    "plt.legend(loc = 1, fontsize = 8)\n",
    "\n",
    "plt.show()\n",
    "plt.clf()\n"
   ]
  },
  {
   "cell_type": "markdown",
   "metadata": {},
   "source": [
    "**W trakcie odtwarzania gatunku są:**\n",
    "\n",
    "    3 ptaki    \n",
    "sprawdżmy jakie to są zwierzęta:\n",
    "    "
   ]
  },
  {
   "cell_type": "code",
   "execution_count": 11,
   "metadata": {},
   "outputs": [
    {
     "data": {
      "text/html": [
       "<div>\n",
       "<style scoped>\n",
       "    .dataframe tbody tr th:only-of-type {\n",
       "        vertical-align: middle;\n",
       "    }\n",
       "\n",
       "    .dataframe tbody tr th {\n",
       "        vertical-align: top;\n",
       "    }\n",
       "\n",
       "    .dataframe thead th {\n",
       "        text-align: right;\n",
       "    }\n",
       "</style>\n",
       "<table border=\"1\" class=\"dataframe\">\n",
       "  <thead>\n",
       "    <tr style=\"text-align: right;\">\n",
       "      <th></th>\n",
       "      <th>category</th>\n",
       "      <th>common_names</th>\n",
       "      <th>conservation_status</th>\n",
       "    </tr>\n",
       "  </thead>\n",
       "  <tbody>\n",
       "    <tr>\n",
       "      <th>100</th>\n",
       "      <td>Bird</td>\n",
       "      <td>Bald Eagle</td>\n",
       "      <td>In Recovery</td>\n",
       "    </tr>\n",
       "    <tr>\n",
       "      <th>3143</th>\n",
       "      <td>Bird</td>\n",
       "      <td>American Peregrine Falcon</td>\n",
       "      <td>In Recovery</td>\n",
       "    </tr>\n",
       "    <tr>\n",
       "      <th>4565</th>\n",
       "      <td>Bird</td>\n",
       "      <td>Brown Pelican</td>\n",
       "      <td>In Recovery</td>\n",
       "    </tr>\n",
       "  </tbody>\n",
       "</table>\n",
       "</div>"
      ],
      "text/plain": [
       "     category               common_names conservation_status\n",
       "100      Bird                 Bald Eagle         In Recovery\n",
       "3143     Bird  American Peregrine Falcon         In Recovery\n",
       "4565     Bird              Brown Pelican         In Recovery"
      ]
     },
     "metadata": {},
     "output_type": "display_data"
    }
   ],
   "source": [
    "display(conservation_group[['category','common_names','conservation_status']][conservation_group.conservation_status=='In Recovery'])"
   ]
  },
  {
   "cell_type": "markdown",
   "metadata": {},
   "source": [
    "**Zagrożone są:**\n",
    "- 3 ryby\n",
    "- 2 płazy\n",
    "- 1 ssak\n",
    "- 2 rodzaje roślin naczyniowych\n",
    "\n",
    "\n",
    "    "
   ]
  },
  {
   "cell_type": "code",
   "execution_count": 12,
   "metadata": {
    "scrolled": true
   },
   "outputs": [
    {
     "data": {
      "text/html": [
       "<div>\n",
       "<style scoped>\n",
       "    .dataframe tbody tr th:only-of-type {\n",
       "        vertical-align: middle;\n",
       "    }\n",
       "\n",
       "    .dataframe tbody tr th {\n",
       "        vertical-align: top;\n",
       "    }\n",
       "\n",
       "    .dataframe thead th {\n",
       "        text-align: right;\n",
       "    }\n",
       "</style>\n",
       "<table border=\"1\" class=\"dataframe\">\n",
       "  <thead>\n",
       "    <tr style=\"text-align: right;\">\n",
       "      <th></th>\n",
       "      <th>category</th>\n",
       "      <th>common_names</th>\n",
       "      <th>conservation_status</th>\n",
       "    </tr>\n",
       "  </thead>\n",
       "  <tbody>\n",
       "    <tr>\n",
       "      <th>38</th>\n",
       "      <td>Mammal</td>\n",
       "      <td>Northern Long-Eared Bat, Northern Myotis</td>\n",
       "      <td>Threatened</td>\n",
       "    </tr>\n",
       "    <tr>\n",
       "      <th>490</th>\n",
       "      <td>Fish</td>\n",
       "      <td>Spotfin Chub</td>\n",
       "      <td>Threatened</td>\n",
       "    </tr>\n",
       "    <tr>\n",
       "      <th>571</th>\n",
       "      <td>Fish</td>\n",
       "      <td>Yellowfin Madtom</td>\n",
       "      <td>Threatened</td>\n",
       "    </tr>\n",
       "    <tr>\n",
       "      <th>704</th>\n",
       "      <td>Vascular Plant</td>\n",
       "      <td>Small Whorled Pogonia</td>\n",
       "      <td>Threatened</td>\n",
       "    </tr>\n",
       "    <tr>\n",
       "      <th>2562</th>\n",
       "      <td>Vascular Plant</td>\n",
       "      <td>Virginia Spiraea</td>\n",
       "      <td>Threatened</td>\n",
       "    </tr>\n",
       "    <tr>\n",
       "      <th>3032</th>\n",
       "      <td>Mammal</td>\n",
       "      <td>Grizzly Bear</td>\n",
       "      <td>Threatened</td>\n",
       "    </tr>\n",
       "    <tr>\n",
       "      <th>4597</th>\n",
       "      <td>Amphibian</td>\n",
       "      <td>Yosemite Toad</td>\n",
       "      <td>Threatened</td>\n",
       "    </tr>\n",
       "    <tr>\n",
       "      <th>4600</th>\n",
       "      <td>Amphibian</td>\n",
       "      <td>California Red-Legged Frog</td>\n",
       "      <td>Threatened</td>\n",
       "    </tr>\n",
       "    <tr>\n",
       "      <th>4612</th>\n",
       "      <td>Fish</td>\n",
       "      <td>Lahontan Cutthroat Trout</td>\n",
       "      <td>Threatened</td>\n",
       "    </tr>\n",
       "  </tbody>\n",
       "</table>\n",
       "</div>"
      ],
      "text/plain": [
       "            category                              common_names  \\\n",
       "38            Mammal  Northern Long-Eared Bat, Northern Myotis   \n",
       "490             Fish                              Spotfin Chub   \n",
       "571             Fish                          Yellowfin Madtom   \n",
       "704   Vascular Plant                     Small Whorled Pogonia   \n",
       "2562  Vascular Plant                          Virginia Spiraea   \n",
       "3032          Mammal                              Grizzly Bear   \n",
       "4597       Amphibian                             Yosemite Toad   \n",
       "4600       Amphibian                California Red-Legged Frog   \n",
       "4612            Fish                  Lahontan Cutthroat Trout   \n",
       "\n",
       "     conservation_status  \n",
       "38            Threatened  \n",
       "490           Threatened  \n",
       "571           Threatened  \n",
       "704           Threatened  \n",
       "2562          Threatened  \n",
       "3032          Threatened  \n",
       "4597          Threatened  \n",
       "4600          Threatened  \n",
       "4612          Threatened  "
      ]
     },
     "metadata": {},
     "output_type": "display_data"
    }
   ],
   "source": [
    "display(conservation_group[['category','common_names','conservation_status']][conservation_group.conservation_status=='Threatened'])"
   ]
  },
  {
   "cell_type": "markdown",
   "metadata": {},
   "source": [
    "**Narażone są:**\n",
    "- 1 płaz\n",
    "- 4 ptaki\n",
    "- 3 ryby\n",
    "- 6 ssaków\n",
    "- 1 roślina naczyniowa"
   ]
  },
  {
   "cell_type": "code",
   "execution_count": 13,
   "metadata": {},
   "outputs": [
    {
     "data": {
      "text/html": [
       "<div>\n",
       "<style scoped>\n",
       "    .dataframe tbody tr th:only-of-type {\n",
       "        vertical-align: middle;\n",
       "    }\n",
       "\n",
       "    .dataframe tbody tr th {\n",
       "        vertical-align: top;\n",
       "    }\n",
       "\n",
       "    .dataframe thead th {\n",
       "        text-align: right;\n",
       "    }\n",
       "</style>\n",
       "<table border=\"1\" class=\"dataframe\">\n",
       "  <thead>\n",
       "    <tr style=\"text-align: right;\">\n",
       "      <th></th>\n",
       "      <th>category</th>\n",
       "      <th>common_names</th>\n",
       "      <th>conservation_status</th>\n",
       "    </tr>\n",
       "  </thead>\n",
       "  <tbody>\n",
       "    <tr>\n",
       "      <th>8</th>\n",
       "      <td>Mammal</td>\n",
       "      <td>Gray Wolf</td>\n",
       "      <td>Endangered</td>\n",
       "    </tr>\n",
       "    <tr>\n",
       "      <th>9</th>\n",
       "      <td>Mammal</td>\n",
       "      <td>Red Wolf</td>\n",
       "      <td>Endangered</td>\n",
       "    </tr>\n",
       "    <tr>\n",
       "      <th>34</th>\n",
       "      <td>Mammal</td>\n",
       "      <td>Gray Myotis</td>\n",
       "      <td>Endangered</td>\n",
       "    </tr>\n",
       "    <tr>\n",
       "      <th>39</th>\n",
       "      <td>Mammal</td>\n",
       "      <td>Indiana Bat, Indiana Or Social Myotis</td>\n",
       "      <td>Endangered</td>\n",
       "    </tr>\n",
       "    <tr>\n",
       "      <th>72</th>\n",
       "      <td>Mammal</td>\n",
       "      <td>Carolina Northern Flying Squirrel, Northern Fl...</td>\n",
       "      <td>Endangered</td>\n",
       "    </tr>\n",
       "    <tr>\n",
       "      <th>173</th>\n",
       "      <td>Bird</td>\n",
       "      <td>Whooping Crane</td>\n",
       "      <td>Endangered</td>\n",
       "    </tr>\n",
       "    <tr>\n",
       "      <th>276</th>\n",
       "      <td>Bird</td>\n",
       "      <td>Bachman's Warbler, Bachman's Wood Warbler</td>\n",
       "      <td>Endangered</td>\n",
       "    </tr>\n",
       "    <tr>\n",
       "      <th>343</th>\n",
       "      <td>Bird</td>\n",
       "      <td>Red-Cockaded Woodpecker</td>\n",
       "      <td>Endangered</td>\n",
       "    </tr>\n",
       "    <tr>\n",
       "      <th>540</th>\n",
       "      <td>Fish</td>\n",
       "      <td>Duskytail Darter</td>\n",
       "      <td>Endangered</td>\n",
       "    </tr>\n",
       "    <tr>\n",
       "      <th>570</th>\n",
       "      <td>Fish</td>\n",
       "      <td>Smoky Madtom</td>\n",
       "      <td>Endangered</td>\n",
       "    </tr>\n",
       "    <tr>\n",
       "      <th>2497</th>\n",
       "      <td>Vascular Plant</td>\n",
       "      <td>Mountain Avens, Spreading Avens</td>\n",
       "      <td>Endangered</td>\n",
       "    </tr>\n",
       "    <tr>\n",
       "      <th>3275</th>\n",
       "      <td>Fish</td>\n",
       "      <td>June Sucker</td>\n",
       "      <td>Endangered</td>\n",
       "    </tr>\n",
       "    <tr>\n",
       "      <th>4446</th>\n",
       "      <td>Mammal</td>\n",
       "      <td>Sierra Nevada Bighorn Sheep</td>\n",
       "      <td>Endangered</td>\n",
       "    </tr>\n",
       "    <tr>\n",
       "      <th>4505</th>\n",
       "      <td>Bird</td>\n",
       "      <td>California Condor</td>\n",
       "      <td>Endangered</td>\n",
       "    </tr>\n",
       "    <tr>\n",
       "      <th>4601</th>\n",
       "      <td>Amphibian</td>\n",
       "      <td>Sierra Nevada Yellow-Legged Frog</td>\n",
       "      <td>Endangered</td>\n",
       "    </tr>\n",
       "  </tbody>\n",
       "</table>\n",
       "</div>"
      ],
      "text/plain": [
       "            category                                       common_names  \\\n",
       "8             Mammal                                          Gray Wolf   \n",
       "9             Mammal                                           Red Wolf   \n",
       "34            Mammal                                        Gray Myotis   \n",
       "39            Mammal              Indiana Bat, Indiana Or Social Myotis   \n",
       "72            Mammal  Carolina Northern Flying Squirrel, Northern Fl...   \n",
       "173             Bird                                     Whooping Crane   \n",
       "276             Bird          Bachman's Warbler, Bachman's Wood Warbler   \n",
       "343             Bird                            Red-Cockaded Woodpecker   \n",
       "540             Fish                                   Duskytail Darter   \n",
       "570             Fish                                       Smoky Madtom   \n",
       "2497  Vascular Plant                    Mountain Avens, Spreading Avens   \n",
       "3275            Fish                                        June Sucker   \n",
       "4446          Mammal                        Sierra Nevada Bighorn Sheep   \n",
       "4505            Bird                                  California Condor   \n",
       "4601       Amphibian                   Sierra Nevada Yellow-Legged Frog   \n",
       "\n",
       "     conservation_status  \n",
       "8             Endangered  \n",
       "9             Endangered  \n",
       "34            Endangered  \n",
       "39            Endangered  \n",
       "72            Endangered  \n",
       "173           Endangered  \n",
       "276           Endangered  \n",
       "343           Endangered  \n",
       "540           Endangered  \n",
       "570           Endangered  \n",
       "2497          Endangered  \n",
       "3275          Endangered  \n",
       "4446          Endangered  \n",
       "4505          Endangered  \n",
       "4601          Endangered  "
      ]
     },
     "metadata": {},
     "output_type": "display_data"
    }
   ],
   "source": [
    "display(conservation_group[['category','common_names','conservation_status']][conservation_group.conservation_status=='Endangered'])"
   ]
  },
  {
   "cell_type": "markdown",
   "metadata": {},
   "source": [
    "**Gatunki budzące obawy:**"
   ]
  },
  {
   "cell_type": "code",
   "execution_count": 14,
   "metadata": {},
   "outputs": [
    {
     "data": {
      "text/html": [
       "<div>\n",
       "<style scoped>\n",
       "    .dataframe tbody tr th:only-of-type {\n",
       "        vertical-align: middle;\n",
       "    }\n",
       "\n",
       "    .dataframe tbody tr th {\n",
       "        vertical-align: top;\n",
       "    }\n",
       "\n",
       "    .dataframe thead th {\n",
       "        text-align: right;\n",
       "    }\n",
       "</style>\n",
       "<table border=\"1\" class=\"dataframe\">\n",
       "  <thead>\n",
       "    <tr style=\"text-align: right;\">\n",
       "      <th></th>\n",
       "      <th>category</th>\n",
       "      <th>common_names</th>\n",
       "      <th>conservation_status</th>\n",
       "    </tr>\n",
       "  </thead>\n",
       "  <tbody>\n",
       "    <tr>\n",
       "      <th>7</th>\n",
       "      <td>Mammal</td>\n",
       "      <td>Coyote</td>\n",
       "      <td>Species of Concern</td>\n",
       "    </tr>\n",
       "    <tr>\n",
       "      <th>29</th>\n",
       "      <td>Mammal</td>\n",
       "      <td>Big Brown Bat</td>\n",
       "      <td>Species of Concern</td>\n",
       "    </tr>\n",
       "    <tr>\n",
       "      <th>30</th>\n",
       "      <td>Mammal</td>\n",
       "      <td>Silver-Haired Bat</td>\n",
       "      <td>Species of Concern</td>\n",
       "    </tr>\n",
       "    <tr>\n",
       "      <th>33</th>\n",
       "      <td>Mammal</td>\n",
       "      <td>Mississippi Myotis, Southeastern Myotis</td>\n",
       "      <td>Species of Concern</td>\n",
       "    </tr>\n",
       "    <tr>\n",
       "      <th>35</th>\n",
       "      <td>Mammal</td>\n",
       "      <td>Keen's Myotis</td>\n",
       "      <td>Species of Concern</td>\n",
       "    </tr>\n",
       "    <tr>\n",
       "      <th>...</th>\n",
       "      <td>...</td>\n",
       "      <td>...</td>\n",
       "      <td>...</td>\n",
       "    </tr>\n",
       "    <tr>\n",
       "      <th>5302</th>\n",
       "      <td>Vascular Plant</td>\n",
       "      <td>Winged Water-Starwort</td>\n",
       "      <td>Species of Concern</td>\n",
       "    </tr>\n",
       "    <tr>\n",
       "      <th>5399</th>\n",
       "      <td>Vascular Plant</td>\n",
       "      <td>Mono Hot Springs Evening Primrose, Mono Hot Sp...</td>\n",
       "      <td>Species of Concern</td>\n",
       "    </tr>\n",
       "    <tr>\n",
       "      <th>5426</th>\n",
       "      <td>Vascular Plant</td>\n",
       "      <td>Grants Pass Willowherb, Oregon Fireweed</td>\n",
       "      <td>Species of Concern</td>\n",
       "    </tr>\n",
       "    <tr>\n",
       "      <th>5436</th>\n",
       "      <td>Vascular Plant</td>\n",
       "      <td>Trianglelobe Moonwort, Upswept Moonwort</td>\n",
       "      <td>Species of Concern</td>\n",
       "    </tr>\n",
       "    <tr>\n",
       "      <th>5676</th>\n",
       "      <td>Vascular Plant</td>\n",
       "      <td>Coulter's Matilija Poppy</td>\n",
       "      <td>Species of Concern</td>\n",
       "    </tr>\n",
       "  </tbody>\n",
       "</table>\n",
       "<p>151 rows × 3 columns</p>\n",
       "</div>"
      ],
      "text/plain": [
       "            category                                       common_names  \\\n",
       "7             Mammal                                             Coyote   \n",
       "29            Mammal                                      Big Brown Bat   \n",
       "30            Mammal                                  Silver-Haired Bat   \n",
       "33            Mammal            Mississippi Myotis, Southeastern Myotis   \n",
       "35            Mammal                                      Keen's Myotis   \n",
       "...              ...                                                ...   \n",
       "5302  Vascular Plant                              Winged Water-Starwort   \n",
       "5399  Vascular Plant  Mono Hot Springs Evening Primrose, Mono Hot Sp...   \n",
       "5426  Vascular Plant            Grants Pass Willowherb, Oregon Fireweed   \n",
       "5436  Vascular Plant            Trianglelobe Moonwort, Upswept Moonwort   \n",
       "5676  Vascular Plant                           Coulter's Matilija Poppy   \n",
       "\n",
       "     conservation_status  \n",
       "7     Species of Concern  \n",
       "29    Species of Concern  \n",
       "30    Species of Concern  \n",
       "33    Species of Concern  \n",
       "35    Species of Concern  \n",
       "...                  ...  \n",
       "5302  Species of Concern  \n",
       "5399  Species of Concern  \n",
       "5426  Species of Concern  \n",
       "5436  Species of Concern  \n",
       "5676  Species of Concern  \n",
       "\n",
       "[151 rows x 3 columns]"
      ]
     },
     "metadata": {},
     "output_type": "display_data"
    }
   ],
   "source": [
    "display(conservation_group[['category','common_names','conservation_status']][conservation_group.conservation_status=='Species of Concern'])"
   ]
  },
  {
   "cell_type": "code",
   "execution_count": 15,
   "metadata": {},
   "outputs": [
    {
     "name": "stdout",
     "output_type": "stream",
     "text": [
      "category\n",
      "Amphibian             7\n",
      "Bird                 75\n",
      "Fish                 10\n",
      "Mammal               30\n",
      "Nonvascular Plant     5\n",
      "Reptile               5\n",
      "Vascular Plant       46\n",
      "dtype: int64\n"
     ]
    }
   ],
   "source": [
    "print(conservation_group.\n",
    "        groupby('category').size())"
   ]
  },
  {
   "cell_type": "markdown",
   "metadata": {},
   "source": [
    "### 3. Badanie zawartości zbioru observations.csv"
   ]
  },
  {
   "cell_type": "code",
   "execution_count": 16,
   "metadata": {},
   "outputs": [
    {
     "name": "stdout",
     "output_type": "stream",
     "text": [
      "<class 'pandas.core.frame.DataFrame'>\n",
      "RangeIndex: 23296 entries, 0 to 23295\n",
      "Data columns (total 3 columns):\n",
      " #   Column           Non-Null Count  Dtype \n",
      "---  ------           --------------  ----- \n",
      " 0   scientific_name  23296 non-null  object\n",
      " 1   park_name        23296 non-null  object\n",
      " 2   observations     23296 non-null  int64 \n",
      "dtypes: int64(1), object(2)\n",
      "memory usage: 546.1+ KB\n",
      "None\n",
      "            scientific_name                            park_name  observations\n",
      "0        Vicia benghalensis  Great Smoky Mountains National Park            68\n",
      "1            Neovison vison  Great Smoky Mountains National Park            77\n",
      "2         Prunus subcordata               Yosemite National Park           138\n",
      "3      Abutilon theophrasti                  Bryce National Park            84\n",
      "4  Githopsis specularioides  Great Smoky Mountains National Park            85\n",
      "['Great Smoky Mountains National Park' 'Yosemite National Park'\n",
      " 'Bryce National Park' 'Yellowstone National Park']\n",
      "ilość zwierząt we wszystkich parkach narodowych: 3314739\n"
     ]
    }
   ],
   "source": [
    "observations = pd.read_csv('observations.csv')\n",
    "print(observations.info())\n",
    "print(observations.head())\n",
    "print(observations.park_name.unique())\n",
    "print(f\"ilość zwierząt we wszystkich parkach narodowych: {observations.observations.sum()}\")"
   ]
  },
  {
   "cell_type": "code",
   "execution_count": null,
   "metadata": {},
   "outputs": [],
   "source": []
  },
  {
   "cell_type": "markdown",
   "metadata": {},
   "source": [
    "Zbiór zawiera 23 296 obserwacji z kolumnami:\n",
    "1. **scientific_name** - nazwa naukowa zwierzęcia\n",
    "2. **park_name** - nazwa parku narodowego\n",
    "3. **observations** - ilość obserwacji danego zwierzęcia\n",
    "\n",
    "Brak jest pustych danych w zbiorze.\n",
    "\n",
    "Zbadajmy, jak rozkładają się dane w polu 'observations'"
   ]
  },
  {
   "cell_type": "code",
   "execution_count": 17,
   "metadata": {},
   "outputs": [
    {
     "name": "stdout",
     "output_type": "stream",
     "text": [
      "       observations\n",
      "count  23296.000000\n",
      "mean     142.287904\n",
      "std       69.890532\n",
      "min        9.000000\n",
      "25%       86.000000\n",
      "50%      124.000000\n",
      "75%      195.000000\n",
      "max      321.000000\n",
      "scientific_name    Vicia benghalensisNeovison visonPrunus subcord...\n",
      "park_name          Great Smoky Mountains National ParkGreat Smoky...\n",
      "observations                                                 3314739\n",
      "dtype: object\n"
     ]
    },
    {
     "data": {
      "image/png": "[encoded data removed]",
      "text/plain": [
       "<Figure size 640x480 with 1 Axes>"
      ]
     },
     "metadata": {},
     "output_type": "display_data"
    },
    {
     "data": {
      "text/plain": [
       "<Figure size 640x480 with 0 Axes>"
      ]
     },
     "metadata": {},
     "output_type": "display_data"
    }
   ],
   "source": [
    "print(observations.describe())\n",
    "print(observations.sum())\n",
    "sns.histplot(data=observations)\n",
    "plt.show()\n",
    "plt.clf()"
   ]
  },
  {
   "cell_type": "markdown",
   "metadata": {},
   "source": [
    "zobaczmy ile jest zwierząt w każdym z parków narodowych"
   ]
  },
  {
   "cell_type": "code",
   "execution_count": 18,
   "metadata": {
    "scrolled": true
   },
   "outputs": [
    {
     "name": "stdout",
     "output_type": "stream",
     "text": [
      "park_name\n",
      "Bryce National Park                     576025\n",
      "Great Smoky Mountains National Park     431820\n",
      "Yellowstone National Park              1443562\n",
      "Yosemite National Park                  863332\n",
      "Name: observations, dtype: int64\n"
     ]
    },
    {
     "data": {
      "image/png": "[encoded data removed]",
      "text/plain": [
       "<Figure size 640x480 with 1 Axes>"
      ]
     },
     "metadata": {},
     "output_type": "display_data"
    },
    {
     "data": {
      "text/plain": [
       "<Figure size 640x480 with 0 Axes>"
      ]
     },
     "metadata": {},
     "output_type": "display_data"
    }
   ],
   "source": [
    "obs_group = observations.groupby('park_name').observations\n",
    "print(obs_group.sum())\n",
    "ax = sns.barplot(x='park_name', data= observations, y = 'observations')\n",
    "ax_label = ['Great Smoky Mountain', 'Yosemite',\n",
    " 'Bryce','Yellowstone']\n",
    "ax.set_xticklabels(labels=ax_label, rotation=30, fontsize = 9)\n",
    "ax.set_xlabel('Nationale Park')\n",
    "plt.show()\n",
    "plt.clf()"
   ]
  },
  {
   "cell_type": "markdown",
   "metadata": {},
   "source": [
    "### 3.  Analiza połączonych zbiorów (species.scv i observations.csv)"
   ]
  },
  {
   "cell_type": "code",
   "execution_count": 19,
   "metadata": {
    "scrolled": false
   },
   "outputs": [
    {
     "name": "stdout",
     "output_type": "stream",
     "text": [
      "scientific_name        23296\n",
      "park_name              23296\n",
      "observations           23296\n",
      "category               23296\n",
      "common_names           23296\n",
      "conservation_status    23296\n",
      "dtype: int64\n",
      "['Great Smoky Mountains National Park' 'Yosemite National Park'\n",
      " 'Bryce National Park' 'Yellowstone National Park']\n",
      ":ilość zwierząt pod ochroną: 89295\n"
     ]
    }
   ],
   "source": [
    "\n",
    "observations_species = pd.merge(observations,species,on=['scientific_name'],how='left')\n",
    "observations_park = observations_species[observations_species['conservation_status'] != 'Not protected']\n",
    "print(observations_species.count())\n",
    "print(observations_species.park_name.unique())\n",
    "print(f':ilość zwierząt pod ochroną: {observations_park.observations.sum()}')"
   ]
  },
  {
   "cell_type": "markdown",
   "metadata": {},
   "source": [
    "3.1. Sprawdźmy jak rozkładać się będzie ilość zwierząt w podziale na rodzaje ochrony i parki narodowe."
   ]
  },
  {
   "cell_type": "code",
   "execution_count": 20,
   "metadata": {},
   "outputs": [
    {
     "name": "stdout",
     "output_type": "stream",
     "text": [
      "                                                         observations\n",
      "conservation_status park_name                                        \n",
      "Endangered          Bryce National Park                           489\n",
      "                    Great Smoky Mountains National Park           334\n",
      "                    Yellowstone National Park                    1228\n",
      "                    Yosemite National Park                        747\n",
      "In Recovery         Bryce National Park                           258\n",
      "                    Great Smoky Mountains National Park           189\n",
      "                    Yellowstone National Park                     559\n",
      "                    Yosemite National Park                        386\n",
      "Not protected       Bryce National Park                        559926\n",
      "                    Great Smoky Mountains National Park        420643\n",
      "                    Yellowstone National Park                 1404899\n",
      "                    Yosemite National Park                     839976\n",
      "Species of Concern  Bryce National Park                         14925\n",
      "                    Great Smoky Mountains National Park         10314\n",
      "                    Yellowstone National Park                   35789\n",
      "                    Yosemite National Park                      21551\n",
      "Threatened          Bryce National Park                           427\n",
      "                    Great Smoky Mountains National Park           340\n",
      "                    Yellowstone National Park                    1087\n",
      "                    Yosemite National Park                        672\n"
     ]
    },
    {
     "data": {
      "image/png": "[encoded data removed]",
      "text/plain": [
       "<Figure size 640x480 with 1 Axes>"
      ]
     },
     "metadata": {},
     "output_type": "display_data"
    },
    {
     "data": {
      "text/plain": [
       "<Figure size 640x480 with 0 Axes>"
      ]
     },
     "metadata": {},
     "output_type": "display_data"
    }
   ],
   "source": [
    "observations_group = observations_species.groupby(['conservation_status','park_name'])\n",
    "print(observations_group.sum())\n",
    "lab_x = ['Yosemite','Bryce','Great Smoky','Yellowstone']\n",
    "ax = plt.subplot()\n",
    "sns.barplot(x='park_name', data= observations_park, y = 'observations',hue = 'conservation_status')\n",
    "ax.set_xticklabels(labels=lab_x, rotation=90,fontsize = 8)\n",
    "ax.set_xlabel('Nationale Park')\n",
    "plt.show()\n",
    "plt.clf()"
   ]
  },
  {
   "cell_type": "markdown",
   "metadata": {},
   "source": [
    "Park narodowy Yellowstone ma największą ilość zwierząt chronionych i pod obserwacją, jednak jest to największy park z analizowanych i posiada największą ilość obserwacji."
   ]
  },
  {
   "cell_type": "markdown",
   "metadata": {},
   "source": [
    "3.2. W parkach narodowych jest różna ilość obserwacji ogółem, dlatego zanalizujmy udział gatunków chronionych w ilości wszystkich obserwacji w danym parku narodowym.\n",
    "Liczba obserwacji podana jest bez wcześniej wyeliminowanych zwierząt nie chronionych.\n",
    "\n",
    "W  połączonym zbiorze observations_percent wystąpią pola:\n",
    "- observations_x - ilość obserwacji dla parku narodowego i statusu ochrony\n",
    "- observations_y - ilość obserwacji ogółem dla parku narodowego\n",
    "- percent - udział obserwacji dla statusu ochrony w obserwacjach ogółem danego parku narodowego"
   ]
  },
  {
   "cell_type": "code",
   "execution_count": 21,
   "metadata": {},
   "outputs": [
    {
     "name": "stdout",
     "output_type": "stream",
     "text": [
      "                             park_name  observations\n",
      "0                  Bryce National Park         16099\n",
      "1  Great Smoky Mountains National Park         11177\n",
      "2            Yellowstone National Park         38663\n",
      "3               Yosemite National Park         23356\n",
      "   conservation_status                            park_name  observations_x  \\\n",
      "0           Endangered                  Bryce National Park             489   \n",
      "1           Endangered  Great Smoky Mountains National Park             334   \n",
      "2           Endangered            Yellowstone National Park            1228   \n",
      "3           Endangered               Yosemite National Park             747   \n",
      "4          In Recovery                  Bryce National Park             258   \n",
      "5          In Recovery  Great Smoky Mountains National Park             189   \n",
      "6          In Recovery            Yellowstone National Park             559   \n",
      "7          In Recovery               Yosemite National Park             386   \n",
      "8   Species of Concern                  Bryce National Park           14925   \n",
      "9   Species of Concern  Great Smoky Mountains National Park           10314   \n",
      "10  Species of Concern            Yellowstone National Park           35789   \n",
      "11  Species of Concern               Yosemite National Park           21551   \n",
      "12          Threatened                  Bryce National Park             427   \n",
      "13          Threatened  Great Smoky Mountains National Park             340   \n",
      "14          Threatened            Yellowstone National Park            1087   \n",
      "15          Threatened               Yosemite National Park             672   \n",
      "\n",
      "    observations_y    percent  \n",
      "0            16099   3.037456  \n",
      "1            11177   2.988280  \n",
      "2            38663   3.176163  \n",
      "3            23356   3.198322  \n",
      "4            16099   1.602584  \n",
      "5            11177   1.690973  \n",
      "6            38663   1.445827  \n",
      "7            23356   1.652680  \n",
      "8            16099  92.707622  \n",
      "9            11177  92.278787  \n",
      "10           38663  92.566536  \n",
      "11           23356  92.271793  \n",
      "12           16099   2.652339  \n",
      "13           11177   3.041961  \n",
      "14           38663   2.811474  \n",
      "15           23356   2.877205  \n"
     ]
    },
    {
     "data": {
      "image/png": "[encoded data removed]",
      "text/plain": [
       "<Figure size 640x480 with 1 Axes>"
      ]
     },
     "metadata": {},
     "output_type": "display_data"
    },
    {
     "data": {
      "text/plain": [
       "<Figure size 640x480 with 0 Axes>"
      ]
     },
     "metadata": {},
     "output_type": "display_data"
    }
   ],
   "source": [
    "observations_group = observations_park.groupby(['conservation_status','park_name']).sum().reset_index()\n",
    "observations_sum = observations_park.groupby(['park_name']).sum().reset_index()\n",
    "print(observations_sum)\n",
    "observations_percent  = pd.merge(observations_group,observations_sum,on=['park_name'],how='left')\n",
    "observations_percent['percent'] =  observations_percent.observations_x/observations_percent.observations_y*100\n",
    "\n",
    "print(observations_percent)\n",
    "ax = sns.barplot(x='park_name', data= observations_percent, y = 'percent',hue = 'conservation_status')\n",
    "lab_x = ['Bryce','Great Smoky','Yelowstone','Yosmite']\n",
    "ax.set_xticklabels(labels=lab_x, rotation=90,fontsize = 8)\n",
    "ax.set_xlabel('Nationale Park')\n",
    "ax.set_ylabel('Percent of observations in nationale park')\n",
    "ax.set_yscale(\"log\")\n",
    "plt.show()\n",
    "plt.clf()"
   ]
  },
  {
   "cell_type": "markdown",
   "metadata": {},
   "source": [
    "Widzimy, że ilość zwierząt chronionych w stosunku do ilości zwierząt ogółem rozkłada się bardziej równomiernie we wszystkich parkach narodowych.\n",
    "Park Great Smoky ma proporcjonalnie najwięcej zwierząt zagrozonych i w trakcie przywracania gatunków.\n"
   ]
  },
  {
   "cell_type": "markdown",
   "metadata": {},
   "source": [
    "3.3. Zobaczmy, jak wygląda podział zwierząt na gatunki i ich status ochrony we wszystkich parkach narodowych razem."
   ]
  },
  {
   "cell_type": "code",
   "execution_count": 22,
   "metadata": {},
   "outputs": [
    {
     "name": "stdout",
     "output_type": "stream",
     "text": [
      "             category conservation_status  observations\n",
      "0           Amphibian          Endangered           144\n",
      "1                Bird          Endangered           574\n",
      "2                Fish          Endangered           455\n",
      "3              Mammal          Endangered          1463\n",
      "4      Vascular Plant          Endangered           162\n",
      "5                Bird         In Recovery          1392\n",
      "6           Amphibian  Species of Concern          2044\n",
      "7                Bird  Species of Concern         36642\n",
      "8                Fish  Species of Concern          2109\n",
      "9              Mammal  Species of Concern         14408\n",
      "10  Nonvascular Plant  Species of Concern          2705\n",
      "11            Reptile  Species of Concern          2536\n",
      "12     Vascular Plant  Species of Concern         22135\n",
      "13          Amphibian          Threatened           564\n",
      "14               Fish          Threatened           832\n",
      "15             Mammal          Threatened           578\n",
      "16     Vascular Plant          Threatened           552\n"
     ]
    },
    {
     "data": {
      "image/png": "[encoded data removed]",
      "text/plain": [
       "<Figure size 640x480 with 1 Axes>"
      ]
     },
     "metadata": {},
     "output_type": "display_data"
    },
    {
     "data": {
      "text/plain": [
       "<Figure size 640x480 with 0 Axes>"
      ]
     },
     "metadata": {},
     "output_type": "display_data"
    }
   ],
   "source": [
    "\n",
    "observations_group = observations_park.groupby(['conservation_status','category']).sum().reset_index()\n",
    "print(observations_group[['category','conservation_status','observations']])\n",
    "\n",
    "ax = sns.barplot(x='conservation_status', data= observations_group, y = 'observations',hue = 'category')\n",
    "#ax.set_yscale(\"log\")\n",
    "plt.show()\n",
    "plt.clf()"
   ]
  },
  {
   "cell_type": "markdown",
   "metadata": {},
   "source": [
    "# Wnioski\n",
    "1. Na 3 314 739 zwierząt żyjących w badanych parkach narodowych przypada 89 295 zwierząt podlegających ochronie lub będących pod obserwacja. Jest to tylko 2,7% wszystkich zaobserwowanych zwierząt.\n",
    "\n",
    "2. Należą do nich zwierzeta wszystkich gatunków, a ich podział na statusy ochrony pokazano w punkcie 3.3\n",
    "    \n",
    "3. Ilość zwierząt chronionych dla każdego gatunku pokazuję niżej.    \n",
    "\n",
    "\n"
   ]
  },
  {
   "cell_type": "code",
   "execution_count": 23,
   "metadata": {},
   "outputs": [
    {
     "name": "stdout",
     "output_type": "stream",
     "text": [
      "category\n",
      "Amphibian             7\n",
      "Bird                 75\n",
      "Fish                 10\n",
      "Mammal               30\n",
      "Nonvascular Plant     5\n",
      "Reptile               5\n",
      "Vascular Plant       46\n",
      "dtype: int64\n"
     ]
    }
   ],
   "source": [
    "print(conservation_group.\n",
    "        groupby('category').size())"
   ]
  },
  {
   "cell_type": "markdown",
   "metadata": {},
   "source": [
    "4. Ilość obserwacji zwierząt chronionych dla każdego gatunku wynosi:"
   ]
  },
  {
   "cell_type": "code",
   "execution_count": 24,
   "metadata": {},
   "outputs": [
    {
     "name": "stdout",
     "output_type": "stream",
     "text": [
      "                   observations\n",
      "category                       \n",
      "Amphibian                  2752\n",
      "Bird                      38608\n",
      "Fish                       3396\n",
      "Mammal                    16449\n",
      "Nonvascular Plant          2705\n",
      "Reptile                    2536\n",
      "Vascular Plant            22849\n"
     ]
    }
   ],
   "source": [
    "print(observations_park.groupby('category').sum())"
   ]
  },
  {
   "cell_type": "code",
   "execution_count": null,
   "metadata": {},
   "outputs": [],
   "source": []
  },
  {
   "cell_type": "code",
   "execution_count": null,
   "metadata": {},
   "outputs": [],
   "source": []
  },
  {
   "cell_type": "code",
   "execution_count": null,
   "metadata": {},
   "outputs": [],
   "source": []
  },
  {
   "cell_type": "code",
   "execution_count": null,
   "metadata": {},
   "outputs": [],
   "source": []
  },
  {
   "cell_type": "code",
   "execution_count": null,
   "metadata": {},
   "outputs": [],
   "source": []
  },
  {
   "cell_type": "code",
   "execution_count": null,
   "metadata": {},
   "outputs": [],
   "source": []
  },
  {
   "cell_type": "code",
   "execution_count": null,
   "metadata": {},
   "outputs": [],
   "source": []
  },
  {
   "cell_type": "code",
   "execution_count": null,
   "metadata": {},
   "outputs": [],
   "source": []
  },
  {
   "cell_type": "code",
   "execution_count": null,
   "metadata": {},
   "outputs": [],
   "source": []
  },
  {
   "cell_type": "code",
   "execution_count": null,
   "metadata": {},
   "outputs": [],
   "source": []
  },
  {
   "cell_type": "code",
   "execution_count": null,
   "metadata": {},
   "outputs": [],
   "source": []
  },
  {
   "cell_type": "code",
   "execution_count": null,
   "metadata": {},
   "outputs": [],
   "source": []
  },
  {
   "cell_type": "code",
   "execution_count": null,
   "metadata": {},
   "outputs": [],
   "source": []
  },
  {
   "cell_type": "code",
   "execution_count": null,
   "metadata": {},
   "outputs": [],
   "source": []
  },
  {
   "cell_type": "code",
   "execution_count": null,
   "metadata": {},
   "outputs": [],
   "source": []
  },
  {
   "cell_type": "code",
   "execution_count": null,
   "metadata": {},
   "outputs": [],
   "source": []
  },
  {
   "cell_type": "code",
   "execution_count": null,
   "metadata": {},
   "outputs": [],
   "source": []
  },
  {
   "cell_type": "code",
   "execution_count": null,
   "metadata": {},
   "outputs": [],
   "source": []
  },
  {
   "cell_type": "code",
   "execution_count": null,
   "metadata": {},
   "outputs": [],
   "source": []
  },
  {
   "cell_type": "code",
   "execution_count": null,
   "metadata": {},
   "outputs": [],
   "source": []
  }
 ],
 "metadata": {
  "kernelspec": {
   "display_name": "Python 3 (ipykernel)",
   "language": "python",
   "name": "python3"
  },
  "language_info": {
   "codemirror_mode": {
    "name": "ipython",
    "version": 3
   },
   "file_extension": ".py",
   "mimetype": "text/x-python",
   "name": "python",
   "nbconvert_exporter": "python",
   "pygments_lexer": "ipython3",
   "version": "3.9.13"
  }
 },
 "nbformat": 4,
 "nbformat_minor": 4
}
